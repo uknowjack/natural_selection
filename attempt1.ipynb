{
 "cells": [
  {
   "cell_type": "code",
   "execution_count": 1,
   "metadata": {
    "ExecuteTime": {
     "end_time": "2019-06-04T17:46:24.369055Z",
     "start_time": "2019-06-04T17:46:23.431371Z"
    }
   },
   "outputs": [],
   "source": [
    "import pandas as pd\n",
    "import numpy as np"
   ]
  },
  {
   "cell_type": "code",
   "execution_count": 2,
   "metadata": {
    "ExecuteTime": {
     "end_time": "2019-06-04T17:46:24.386249Z",
     "start_time": "2019-06-04T17:46:24.372004Z"
    }
   },
   "outputs": [
    {
     "ename": "SyntaxError",
     "evalue": "invalid syntax (<ipython-input-2-761a19939733>, line 37)",
     "output_type": "error",
     "traceback": [
      "\u001b[0;36m  File \u001b[0;32m\"<ipython-input-2-761a19939733>\"\u001b[0;36m, line \u001b[0;32m37\u001b[0m\n\u001b[0;31m    def __init__(row,column)\u001b[0m\n\u001b[0m                            ^\u001b[0m\n\u001b[0;31mSyntaxError\u001b[0m\u001b[0;31m:\u001b[0m invalid syntax\n"
     ]
    }
   ],
   "source": [
    "def create_board(length, width):\n",
    "    board = []\n",
    "    for y in range(width):\n",
    "        row = []\n",
    "        for x in range(length):\n",
    "            row.append('O')\n",
    "#             if y < .5*width:\n",
    "#                 row.append('O')\n",
    "#             else:\n",
    "#                 row.append(' ')\n",
    "        board.append(row)\n",
    "    return board \n",
    "\n",
    "def show_board(board):\n",
    "    line = '/'\n",
    "    for i in range(len(board[0])*2+1):\n",
    "        line = line+'-'\n",
    "    line = line+'\\\\'\n",
    "    print(line)\n",
    "    for row in range(len(board)):\n",
    "        line = '| '\n",
    "        for column in range(len(board[row])):\n",
    "            line = line+str(board[row][column])+' '\n",
    "        line = line+'|'\n",
    "        print(line)\n",
    "    line = '\\\\'\n",
    "    for i in range(len(board[0])*2+1):\n",
    "        line = line+'-'\n",
    "    line = line+'/'\n",
    "    print(line)\n",
    "\n",
    "def add_creature(row,column,board):\n",
    "    board[row][column] = 'X'\n",
    "    return board\n",
    "    \n",
    "class creature:\n",
    "    def __init__(row,column)\n",
    "    \n",
    "    \n",
    "            "
   ]
  },
  {
   "cell_type": "code",
   "execution_count": null,
   "metadata": {
    "ExecuteTime": {
     "end_time": "2019-06-04T17:46:24.394965Z",
     "start_time": "2019-06-04T17:46:23.433Z"
    }
   },
   "outputs": [],
   "source": [
    "board = create_board(10,10)\n",
    "show_board(board)"
   ]
  },
  {
   "cell_type": "code",
   "execution_count": null,
   "metadata": {
    "ExecuteTime": {
     "end_time": "2019-06-04T17:46:24.396612Z",
     "start_time": "2019-06-04T17:46:23.435Z"
    }
   },
   "outputs": [],
   "source": [
    "add_creature(3,1,board)\n",
    "show_board(board)"
   ]
  },
  {
   "cell_type": "code",
   "execution_count": null,
   "metadata": {},
   "outputs": [],
   "source": []
  }
 ],
 "metadata": {
  "kernelspec": {
   "display_name": "Python 3",
   "language": "python",
   "name": "python3"
  },
  "language_info": {
   "codemirror_mode": {
    "name": "ipython",
    "version": 3
   },
   "file_extension": ".py",
   "mimetype": "text/x-python",
   "name": "python",
   "nbconvert_exporter": "python",
   "pygments_lexer": "ipython3",
   "version": "3.7.1"
  }
 },
 "nbformat": 4,
 "nbformat_minor": 2
}
