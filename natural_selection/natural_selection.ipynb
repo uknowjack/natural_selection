{
 "cells": [
  {
   "cell_type": "code",
   "execution_count": 1,
   "metadata": {
    "ExecuteTime": {
     "end_time": "2019-06-12T04:20:48.379057Z",
     "start_time": "2019-06-12T04:20:48.371619Z"
    }
   },
   "outputs": [],
   "source": [
    "# to get equilibirum i need the birth rate to equal the death rate\n",
    "# equalibrium number = birth rate / death rate\n",
    "# spontanious emmergence + number * replication chance = n * death chance\n",
    "# spontanious birth is unrealistic\n",
    "# birth rate - death rate = 0 at equilibirum\n",
    "\n",
    "# with reproduction\n",
    "# delta = SBR + (R - D)*N\n",
    "\n",
    "# overcrowding causes fewer births and more deaths\n",
    "\n",
    "# need to make costs for higher max vel\n",
    "# init_maxvel needs an equasion to make metabolism what init metabolism\n",
    "# make a tail\n",
    "# make steering force also evolve\n",
    "\n",
    "# https://www.youtube.com/watch?v=0ZGbIKd0XrM&t=198s\n",
    "# https://www.youtube.com/watch?v=KMeT2k1ytYs&t=261s\n",
    "# https://www.youtube.com/watch?v=dyiZaHIRM6w\n",
    "\n"
   ]
  },
  {
   "cell_type": "code",
   "execution_count": 2,
   "metadata": {
    "ExecuteTime": {
     "end_time": "2019-06-12T04:20:49.991930Z",
     "start_time": "2019-06-12T04:20:48.381526Z"
    }
   },
   "outputs": [
    {
     "name": "stdout",
     "output_type": "stream",
     "text": [
      "pygame 1.9.6\n",
      "Hello from the pygame community. https://www.pygame.org/contribute.html\n"
     ]
    }
   ],
   "source": [
    "import pygame as pg\n",
    "import time\n",
    "import random\n",
    "import math\n",
    "import numpy as np\n",
    "from pygame import gfxdraw\n",
    "import sys\n",
    "import matplotlib.pyplot as plt\n",
    "import seaborn as sns\n",
    "import pickle\n",
    "import pandas as pd"
   ]
  },
  {
   "cell_type": "code",
   "execution_count": 3,
   "metadata": {
    "ExecuteTime": {
     "end_time": "2019-06-12T04:20:51.017452Z",
     "start_time": "2019-06-12T04:20:49.993881Z"
    }
   },
   "outputs": [],
   "source": [
    "pg.init()\n",
    "\n",
    "game_width = 800\n",
    "game_height = 600\n",
    "fps = 60\n",
    "\n",
    "white = (255,255,255)\n",
    "black = (0,0,0)\n",
    "red = (255,0,0)\n",
    "green = (0,255,0)\n",
    "blue = (0,0,255)\n",
    "purple = (255,0,255)\n",
    "cyan = (0,255,255)\n",
    "\n",
    "spontanious_birth_chance = .0001\n",
    "spontanious_death_chance = .001\n",
    "spontanious_food_chance = .4\n",
    "reproduction_chance = .01\n",
    "max_creatures = 200\n",
    "max_food = 500\n",
    "\n",
    "init_size = 10\n",
    "init_vel = 2\n",
    "init_steering_weight = 0.5\n",
    "init_metabolism = .01\n",
    "max_vel = 5\n",
    "age_factor = .0001\n",
    "mutation_change = .05\n",
    "\n",
    "food_size = 5\n",
    "\n",
    "num_starting_creatures = 5\n",
    "num_starting_food = int(max_food/2)\n",
    "\n",
    "boundary_size = 40\n",
    "\n",
    "screen = pg.display.set_mode((game_width,game_height))\n",
    "clock = pg.time.Clock()\n",
    "\n",
    "creature_pos = [game_width/2, game_height/2]"
   ]
  },
  {
   "cell_type": "code",
   "execution_count": 4,
   "metadata": {
    "ExecuteTime": {
     "end_time": "2019-06-12T04:20:51.036312Z",
     "start_time": "2019-06-12T04:20:51.022267Z"
    }
   },
   "outputs": [],
   "source": [
    "def get_draw_pos(x, size):\n",
    "    pos = x-size/2\n",
    "    return pos\n",
    "\n",
    "def magnitude_calc(vector):\n",
    "    x = 0\n",
    "    for i in vector:\n",
    "        x += i**2\n",
    "    magnitude = x**0.5\n",
    "    return(magnitude)\n",
    "    \n",
    "def normalise(vector):\n",
    "    magnitude = magnitude_calc(vector)\n",
    "    if magnitude != 0:\n",
    "        vector = vector/magnitude\n",
    "    return(vector)\n",
    "\n",
    "def check_in_range(n, min, max):\n",
    "    if n < min:\n",
    "        return min\n",
    "    elif n > max:\n",
    "        return max\n",
    "    else:\n",
    "        return n\n",
    "    \n",
    "def get_fraction(n, min, max):\n",
    "    n = check_in_range(n,min,max)\n",
    "    return n-min/max-min\n",
    "\n",
    "def health_color_decider(energy):\n",
    "    health = get_fraction(energy, 0, 2.5)\n",
    "    color = (max(min((1-health)*255,255),0), max(min(health*255,255),0), 0)\n",
    "    return(color)\n",
    "\n",
    "def speed_color_decider(vel):\n",
    "    legs = get_fraction(vel, 1, 5)\n",
    "    color = (max(min((legs)*255,255),0), max(min((legs)*255,255),0), 255)\n",
    "    return(color)\n",
    "\n",
    "def mutate(n):\n",
    "    return random.uniform(n-n*mutation_change, n+n*mutation_change)"
   ]
  },
  {
   "cell_type": "code",
   "execution_count": 5,
   "metadata": {
    "ExecuteTime": {
     "end_time": "2019-06-12T04:20:51.079679Z",
     "start_time": "2019-06-12T04:20:51.038696Z"
    }
   },
   "outputs": [],
   "source": [
    "class create_creature():\n",
    "    def __init__(self, pos_x, pos_y, size, max_vel):\n",
    "        self.position = np.array([pos_x,pos_y], dtype='float64')\n",
    "        self.velocity = np.array([random.uniform(-max_vel,max_vel),random.uniform(-max_vel,max_vel)], dtype='float64') # this seems weird. i think the creature can move fasteer on a diagonal that vertical or horizontal\n",
    "        self.last_vel = np.array([0,0], dtype='float64')\n",
    "        self.acceleration = np.array([0, 0], dtype='float64')\n",
    "        self.metabolism = init_metabolism\n",
    "        self.energy = 1\n",
    "        self.perception = 100\n",
    "        self.max_vel = max_vel\n",
    "        self.max_force = 0.5\n",
    "        self.size = size\n",
    "        self.health_color = health_color_decider(self.energy)\n",
    "        self.speed_color = speed_color_decider(self.max_vel)\n",
    "        self.age = 0\n",
    "\n",
    "    def update(self):\n",
    "        self.last_vel = self.velocity\n",
    "        self.velocity = normalise(self.velocity+self.acceleration)*self.max_vel\n",
    "        self.energy -= self.metabolism\n",
    "        self.health_color = health_color_decider(self.energy)\n",
    "        self.position += self.velocity\n",
    "        self.acceleration *= 0\n",
    "        self.age += 1\n",
    "\n",
    "    def apply_force(self, force):\n",
    "        self.acceleration += force\n",
    "\n",
    "    def seek(self, target):\n",
    "        desired_vel = normalise(np.add(target, -self.position))*self.max_vel\n",
    "        steering_force = np.add(desired_vel, -self.velocity)\n",
    "        steering_force = normalise(steering_force)*self.max_force\n",
    "        return(steering_force)\n",
    "    \n",
    "    def eat(self, food):\n",
    "        closest = None\n",
    "        closest_distance = max(game_width, game_height)\n",
    "        pos_x = self.position[0]\n",
    "        pos_y = self.position[1]\n",
    "        item_number = len(food)-1\n",
    "        for i in food[::-1]:\n",
    "            item_x = i.position[0]\n",
    "            item_y = i.position[1]\n",
    "            distance = math.hypot(pos_x-item_x, pos_y-item_y)\n",
    "            if distance < self.size/2:\n",
    "                food.pop(item_number)\n",
    "                self.energy += 1\n",
    "            if distance < closest_distance:\n",
    "                closest_distance = distance\n",
    "                closest = i.position\n",
    "            item_number -=1\n",
    "        if closest_distance < self.perception:\n",
    "            seek = self.seek(closest)\n",
    "            seek *= self.perception\n",
    "            seek = normalise(seek)*self.max_force\n",
    "            self.apply_force(seek)\n",
    "    \n",
    "    def reproduce(self, creatures):\n",
    "        new_vel = check_in_range(mutate(self.max_vel), 1, max_vel)\n",
    "        creatures.append(create_creature(self.position[0],self.position[1], self.size, new_vel))\n",
    "        self.energy *= .5\n",
    "    \n",
    "    def die(self, creatures):\n",
    "        creatures.remove(self)\n",
    " \n",
    "    def boundaries(self):\n",
    "        desired = None\n",
    "        x_pos = self.position[0]\n",
    "        y_pos = self.position[1]\n",
    "        if x_pos < boundary_size:\n",
    "            desired = np.array([self.max_vel, self.velocity[1]])\n",
    "        elif x_pos > game_width - boundary_size:\n",
    "            desired = np.array([-self.max_vel, self.velocity[1]])\n",
    "        if y_pos < boundary_size:\n",
    "            desired = np.array([self.velocity[0], self.max_vel])\n",
    "        elif y_pos > game_height - boundary_size:\n",
    "            desired = np.array([self.velocity[0], -self.max_vel])\n",
    "        if desired is not None:\n",
    "            steer = desired-self.velocity\n",
    "            steer = normalise(steer)*self.max_force\n",
    "            self.apply_force(steer)\n",
    "            \n",
    "    def behave(self, creatures, foods):\n",
    "        energized = False\n",
    "        feelin_it = False\n",
    "        aged = False\n",
    "        sickly = False\n",
    "        hungry = True\n",
    "        depleted = False\n",
    "        pop_avail = True\n",
    "\n",
    "#         Definers\n",
    "        if self.energy > 3:\n",
    "            energized = True        \n",
    "        if random.random() < reproduction_chance:\n",
    "            feelin_it = True\n",
    "        if self.age > 500:\n",
    "            aged = True\n",
    "        if random.random() < spontanious_death_chance:\n",
    "            sickly = True\n",
    "        if self.energy > 5:\n",
    "            hungry = False\n",
    "        if self.energy <= 0:\n",
    "            depleted = True\n",
    "        if len(creatures) > max_creatures:\n",
    "            pop_avail = False\n",
    "\n",
    "#         Behaviors\n",
    "        if energized and feelin_it and not aged and pop_avail:\n",
    "            self.reproduce(creatures)\n",
    "        if hungry:\n",
    "            self.eat(foods)\n",
    "        if aged:\n",
    "            self.metabolism *= age_factor\n",
    "        if sickly or depleted:\n",
    "            self.die(creatures)\n",
    "        self.boundaries()\n",
    "        self.update()\n",
    "\n",
    "    def draw(self):\n",
    "        draw_left_x = get_draw_pos(self.position[0],self.size)\n",
    "        draw_top_y = get_draw_pos(self.position[1],self.size)\n",
    "        \n",
    "        def draw_tail():\n",
    "            if self.age > 0:\n",
    "                point1 = ((self.position[0]-self.velocity[0]*(self.size/(1.75*self.max_vel))), (self.position[1]-self.velocity[1]*(self.size/(1.75*self.max_vel))))\n",
    "                pg.draw.line(screen, self.health_color, (self.position[0], self.position[1]), point1, int(self.size/1.5))\n",
    "                if self.age > 400:\n",
    "                    point2 = ((self.position[0]-self.last_vel[0]*(self.size/(1.5*self.max_vel))), (self.position[1]-self.last_vel[1]*(self.size/(1.5*self.max_vel))))\n",
    "                    pg.draw.line(screen, self.health_color, point1, point2, int(self.size/2))\n",
    "                    if self.age > 800:\n",
    "                        point3 = ((self.position[0]-self.velocity[0]*(self.size/(1.25*self.max_vel))), (self.position[1]-self.velocity[1]*(self.size/(1.25*self.max_vel))))\n",
    "                        pg.draw.line(screen, self.health_color, point2, point3, int(self.size/2.5))\n",
    "            \n",
    "        def draw_head():\n",
    "            pg.draw.ellipse(screen, self.health_color, (draw_left_x, draw_top_y, self.size, self.size))\n",
    "            pg.draw.line(screen, red, (self.position[0], self.position[1]), ((self.position[0]+self.velocity[0]*(self.size/(2.5*self.max_vel))), (self.position[1]+self.velocity[1]*(self.size/(2.5*self.max_vel)))), int(self.size/3))\n",
    "        \n",
    "#         draw_tail()\n",
    "        draw_head()\n",
    "\n"
   ]
  },
  {
   "cell_type": "code",
   "execution_count": 6,
   "metadata": {
    "ExecuteTime": {
     "end_time": "2019-06-12T04:20:51.085778Z",
     "start_time": "2019-06-12T04:20:51.081859Z"
    }
   },
   "outputs": [],
   "source": [
    "class create_food():\n",
    "    def __init__(self, pos_x, pos_y):\n",
    "        self.position = np.array([pos_x,pos_y], dtype='float64')\n",
    "    \n",
    "    def draw(self):\n",
    "        pg.draw.ellipse(screen, purple, (get_draw_pos(self.position[0],food_size), get_draw_pos(self.position[1],food_size), food_size, food_size))\n",
    "    "
   ]
  },
  {
   "cell_type": "code",
   "execution_count": 7,
   "metadata": {
    "ExecuteTime": {
     "end_time": "2019-06-12T04:20:51.096078Z",
     "start_time": "2019-06-12T04:20:51.087717Z"
    }
   },
   "outputs": [],
   "source": [
    "def spontanious_birth(pop):\n",
    "    pop.append(create_creature(random.uniform(0,game_width), random.uniform(0,game_height), init_size, init_vel))\n",
    "\n",
    "def spontanious_food(food):\n",
    "    food.append(create_food(random.uniform(0,game_width), random.uniform(0,game_height)))\n",
    "    \n",
    "def initialize(creatures, food):\n",
    "    for _ in range(num_starting_creatures):\n",
    "        spontanious_birth(creatures)\n",
    "\n",
    "    for _ in range(num_starting_food):\n",
    "        spontanious_food(foods)\n",
    "\n",
    "def turn_actions(creatures, food):\n",
    "    pop_avail = True\n",
    "    miraculous = False\n",
    "    food_space = True\n",
    "    food_spawn = False\n",
    "\n",
    "    if len(creatures) > max_creatures:\n",
    "        pop_avail = False        \n",
    "    if random.random() < spontanious_birth_chance:\n",
    "        miraculous = True\n",
    "    if len(foods) > max_food:\n",
    "        food_room = False\n",
    "    if random.random() < spontanious_food_chance:\n",
    "        food_spawn = True\n",
    "\n",
    "    if food_spawn and food_space:\n",
    "        spontanious_food(foods)\n",
    "    if miraculous and pop_avail:\n",
    "        spontanious_birth(creatures)\n",
    "\n",
    "    for food in foods:\n",
    "        food.draw()\n",
    "\n",
    "    for creature in creatures:\n",
    "        creature.behave(creatures, foods)\n",
    "        creature.draw()\n",
    "    "
   ]
  },
  {
   "cell_type": "code",
   "execution_count": 8,
   "metadata": {
    "ExecuteTime": {
     "end_time": "2019-06-12T04:27:44.263149Z",
     "start_time": "2019-06-12T04:20:51.097917Z"
    }
   },
   "outputs": [
    {
     "name": "stdout",
     "output_type": "stream",
     "text": [
      "EXITED\n",
      "AxesSubplot(0.125,0.125;0.775x0.755)\n"
     ]
    },
    {
     "ename": "SystemExit",
     "evalue": "",
     "output_type": "error",
     "traceback": [
      "An exception has occurred, use %tb to see the full traceback.\n",
      "\u001b[0;31mSystemExit\u001b[0m\n"
     ]
    },
    {
     "name": "stderr",
     "output_type": "stream",
     "text": [
      "/Users/jackselbo/anaconda3/lib/python3.7/site-packages/IPython/core/interactiveshell.py:3275: UserWarning: To exit: use 'exit', 'quit', or Ctrl-D.\n",
      "  warn(\"To exit: use 'exit', 'quit', or Ctrl-D.\", stacklevel=1)\n"
     ]
    },
    {
     "data": {
      "image/png": "[encoded data removed]",
      "text/plain": [
       "<Figure size 432x288 with 1 Axes>"
      ]
     },
     "metadata": {
      "needs_background": "light"
     },
     "output_type": "display_data"
    }
   ],
   "source": [
    "creatures = []\n",
    "foods = []\n",
    "\n",
    "initialize(creatures, foods)\n",
    "\n",
    "pop_tracker = [num_starting_creatures]\n",
    "time = [0]\n",
    "\n",
    "game_over = False\n",
    "while not game_over:\n",
    "    screen.fill(black)\n",
    "    \n",
    "    turn_actions(creatures, foods)\n",
    "\n",
    "    if len(creatures) != pop_tracker[-1]:\n",
    "        change = len(pop_tracker)\n",
    "        pop_tracker.append(len(creatures))\n",
    "        time.append(pg.time.get_ticks())\n",
    "\n",
    "    pg.display.update()\n",
    "    clock.tick(fps)\n",
    "\n",
    "    for event in pg.event.get():\n",
    "\n",
    "        if event.type == pg.QUIT:\n",
    "            game_over == True\n",
    "            print(\"EXITED\")\n",
    "\n",
    "            df = pd.DataFrame(list(zip(pop_tracker, range(len(pop_tracker)))), columns = ['population', 'change'])\n",
    "            df = df.reset_index()\n",
    "\n",
    "            print(sns.lineplot(x='change', y='population', data=df))\n",
    "\n",
    "            sys.exit()\n",
    "pygame.quit()\n",
    "quit()\n"
   ]
  },
  {
   "cell_type": "code",
   "execution_count": null,
   "metadata": {
    "ExecuteTime": {
     "end_time": "2019-06-11T21:28:18.842171Z",
     "start_time": "2019-06-11T21:28:12.831Z"
    }
   },
   "outputs": [],
   "source": []
  },
  {
   "cell_type": "code",
   "execution_count": null,
   "metadata": {
    "ExecuteTime": {
     "end_time": "2019-06-12T04:27:44.267601Z",
     "start_time": "2019-06-12T04:20:48.384Z"
    }
   },
   "outputs": [],
   "source": [
    "    \n",
    "            \n",
    "#         BASIC MOVEMENT (UP, DOWN, LEFT, and RIGHT)\n",
    "            \n",
    "#         if event.type == pg.KEYDOWN:\n",
    "            \n",
    "#             x = creature_pos[0]\n",
    "#             y = creature_pos[1]\n",
    "            \n",
    "#             if event.key == pg.K_LEFT:\n",
    "#                 x -= 5\n",
    "#             if event.key == pg.K_RIGHT:\n",
    "#                 x += 5\n",
    "#             if event.key == pg.K_DOWN:\n",
    "#                 y += 5\n",
    "#             if event.key == pg.K_UP:\n",
    "#                 y -= 5\n",
    "            \n",
    "#             creature_pos = [x,y]"
   ]
  }
 ],
 "metadata": {
  "kernelspec": {
   "display_name": "Python 3",
   "language": "python",
   "name": "python3"
  },
  "language_info": {
   "codemirror_mode": {
    "name": "ipython",
    "version": 3
   },
   "file_extension": ".py",
   "mimetype": "text/x-python",
   "name": "python",
   "nbconvert_exporter": "python",
   "pygments_lexer": "ipython3",
   "version": "3.7.1"
  }
 },
 "nbformat": 4,
 "nbformat_minor": 2
}
